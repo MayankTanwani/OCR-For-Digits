{
 "cells": [
  {
   "cell_type": "code",
   "execution_count": 1,
   "metadata": {},
   "outputs": [
    {
     "name": "stderr",
     "output_type": "stream",
     "text": [
      "Using TensorFlow backend.\n"
     ]
    }
   ],
   "source": [
    "import numpy as np\n",
    "from matplotlib import pyplot as plt\n",
    "%matplotlib inline\n",
    "import pandas as pd\n",
    "import keras\n",
    "import cv2\n",
    "\n",
    "from keras.models import Sequential\n",
    "from keras.layers import Dense, Activation, Reshape, Convolution2D, Flatten, MaxPooling2D, Dropout\n",
    "from keras.utils import np_utils"
   ]
  },
  {
   "cell_type": "code",
   "execution_count": 2,
   "metadata": {},
   "outputs": [
    {
     "name": "stdout",
     "output_type": "stream",
     "text": [
      "(60000, 785)\n",
      "(60000, 784) (60000,)\n"
     ]
    },
    {
     "data": {
      "text/html": [
       "<div>\n",
       "<style>\n",
       "    .dataframe thead tr:only-child th {\n",
       "        text-align: right;\n",
       "    }\n",
       "\n",
       "    .dataframe thead th {\n",
       "        text-align: left;\n",
       "    }\n",
       "\n",
       "    .dataframe tbody tr th {\n",
       "        vertical-align: top;\n",
       "    }\n",
       "</style>\n",
       "<table border=\"1\" class=\"dataframe\">\n",
       "  <thead>\n",
       "    <tr style=\"text-align: right;\">\n",
       "      <th></th>\n",
       "      <th>0</th>\n",
       "      <th>1</th>\n",
       "      <th>2</th>\n",
       "      <th>3</th>\n",
       "      <th>4</th>\n",
       "      <th>5</th>\n",
       "      <th>6</th>\n",
       "      <th>7</th>\n",
       "      <th>8</th>\n",
       "      <th>9</th>\n",
       "      <th>...</th>\n",
       "      <th>775</th>\n",
       "      <th>776</th>\n",
       "      <th>777</th>\n",
       "      <th>778</th>\n",
       "      <th>779</th>\n",
       "      <th>780</th>\n",
       "      <th>781</th>\n",
       "      <th>782</th>\n",
       "      <th>783</th>\n",
       "      <th>784</th>\n",
       "    </tr>\n",
       "  </thead>\n",
       "  <tbody>\n",
       "    <tr>\n",
       "      <th>0</th>\n",
       "      <td>5</td>\n",
       "      <td>0</td>\n",
       "      <td>0</td>\n",
       "      <td>0</td>\n",
       "      <td>0</td>\n",
       "      <td>0</td>\n",
       "      <td>0</td>\n",
       "      <td>0</td>\n",
       "      <td>0</td>\n",
       "      <td>0</td>\n",
       "      <td>...</td>\n",
       "      <td>0</td>\n",
       "      <td>0</td>\n",
       "      <td>0</td>\n",
       "      <td>0</td>\n",
       "      <td>0</td>\n",
       "      <td>0</td>\n",
       "      <td>0</td>\n",
       "      <td>0</td>\n",
       "      <td>0</td>\n",
       "      <td>0</td>\n",
       "    </tr>\n",
       "    <tr>\n",
       "      <th>1</th>\n",
       "      <td>0</td>\n",
       "      <td>0</td>\n",
       "      <td>0</td>\n",
       "      <td>0</td>\n",
       "      <td>0</td>\n",
       "      <td>0</td>\n",
       "      <td>0</td>\n",
       "      <td>0</td>\n",
       "      <td>0</td>\n",
       "      <td>0</td>\n",
       "      <td>...</td>\n",
       "      <td>0</td>\n",
       "      <td>0</td>\n",
       "      <td>0</td>\n",
       "      <td>0</td>\n",
       "      <td>0</td>\n",
       "      <td>0</td>\n",
       "      <td>0</td>\n",
       "      <td>0</td>\n",
       "      <td>0</td>\n",
       "      <td>0</td>\n",
       "    </tr>\n",
       "    <tr>\n",
       "      <th>2</th>\n",
       "      <td>4</td>\n",
       "      <td>0</td>\n",
       "      <td>0</td>\n",
       "      <td>0</td>\n",
       "      <td>0</td>\n",
       "      <td>0</td>\n",
       "      <td>0</td>\n",
       "      <td>0</td>\n",
       "      <td>0</td>\n",
       "      <td>0</td>\n",
       "      <td>...</td>\n",
       "      <td>0</td>\n",
       "      <td>0</td>\n",
       "      <td>0</td>\n",
       "      <td>0</td>\n",
       "      <td>0</td>\n",
       "      <td>0</td>\n",
       "      <td>0</td>\n",
       "      <td>0</td>\n",
       "      <td>0</td>\n",
       "      <td>0</td>\n",
       "    </tr>\n",
       "    <tr>\n",
       "      <th>3</th>\n",
       "      <td>1</td>\n",
       "      <td>0</td>\n",
       "      <td>0</td>\n",
       "      <td>0</td>\n",
       "      <td>0</td>\n",
       "      <td>0</td>\n",
       "      <td>0</td>\n",
       "      <td>0</td>\n",
       "      <td>0</td>\n",
       "      <td>0</td>\n",
       "      <td>...</td>\n",
       "      <td>0</td>\n",
       "      <td>0</td>\n",
       "      <td>0</td>\n",
       "      <td>0</td>\n",
       "      <td>0</td>\n",
       "      <td>0</td>\n",
       "      <td>0</td>\n",
       "      <td>0</td>\n",
       "      <td>0</td>\n",
       "      <td>0</td>\n",
       "    </tr>\n",
       "    <tr>\n",
       "      <th>4</th>\n",
       "      <td>9</td>\n",
       "      <td>0</td>\n",
       "      <td>0</td>\n",
       "      <td>0</td>\n",
       "      <td>0</td>\n",
       "      <td>0</td>\n",
       "      <td>0</td>\n",
       "      <td>0</td>\n",
       "      <td>0</td>\n",
       "      <td>0</td>\n",
       "      <td>...</td>\n",
       "      <td>0</td>\n",
       "      <td>0</td>\n",
       "      <td>0</td>\n",
       "      <td>0</td>\n",
       "      <td>0</td>\n",
       "      <td>0</td>\n",
       "      <td>0</td>\n",
       "      <td>0</td>\n",
       "      <td>0</td>\n",
       "      <td>0</td>\n",
       "    </tr>\n",
       "  </tbody>\n",
       "</table>\n",
       "<p>5 rows × 785 columns</p>\n",
       "</div>"
      ],
      "text/plain": [
       "   0    1    2    3    4    5    6    7    8    9   ...   775  776  777  778  \\\n",
       "0    5    0    0    0    0    0    0    0    0    0 ...     0    0    0    0   \n",
       "1    0    0    0    0    0    0    0    0    0    0 ...     0    0    0    0   \n",
       "2    4    0    0    0    0    0    0    0    0    0 ...     0    0    0    0   \n",
       "3    1    0    0    0    0    0    0    0    0    0 ...     0    0    0    0   \n",
       "4    9    0    0    0    0    0    0    0    0    0 ...     0    0    0    0   \n",
       "\n",
       "   779  780  781  782  783  784  \n",
       "0    0    0    0    0    0    0  \n",
       "1    0    0    0    0    0    0  \n",
       "2    0    0    0    0    0    0  \n",
       "3    0    0    0    0    0    0  \n",
       "4    0    0    0    0    0    0  \n",
       "\n",
       "[5 rows x 785 columns]"
      ]
     },
     "execution_count": 2,
     "metadata": {},
     "output_type": "execute_result"
    }
   ],
   "source": [
    "ds = pd.read_csv('data/mnist_train.csv',header=None)\n",
    "data = ds.values\n",
    "print (data.shape)\n",
    "X_data = data[:, 1:]\n",
    "y_data = data[:, 0]\n",
    "print (X_data.shape, y_data.shape)\n",
    "ds.head()"
   ]
  },
  {
   "cell_type": "code",
   "execution_count": 3,
   "metadata": {},
   "outputs": [
    {
     "name": "stdout",
     "output_type": "stream",
     "text": [
      "(10000, 785)\n",
      "(10000, 784) (10000,)\n"
     ]
    }
   ],
   "source": [
    "dt = pd.read_csv('data/mnist_test.csv',header=None)\n",
    "dv = dt.values\n",
    "print (dv.shape)\n",
    "X_test = dv[:, 1:]\n",
    "y_test = dv[:, 0]\n",
    "print (X_test.shape, y_test.shape)"
   ]
  },
  {
   "cell_type": "code",
   "execution_count": 4,
   "metadata": {},
   "outputs": [
    {
     "name": "stdout",
     "output_type": "stream",
     "text": [
      "(60000, 784) (60000, 10)\n"
     ]
    }
   ],
   "source": [
    "\n",
    "# X_data = X_data/255.0\n",
    "\n",
    "X_data = (X_data-X_data.mean(axis=0))/(X_data.std(axis=0) + 1e-8)\n",
    "y = np_utils.to_categorical(y_data)\n",
    "# print (y[4])\n",
    "print (X_data.shape, y.shape)"
   ]
  },
  {
   "cell_type": "code",
   "execution_count": 5,
   "metadata": {},
   "outputs": [
    {
     "name": "stdout",
     "output_type": "stream",
     "text": [
      "(10000, 784) (10000, 10)\n"
     ]
    }
   ],
   "source": [
    "X_test = (X_test-X_test.mean(axis=0))/(X_test.std(axis=0) + 1e-8)\n",
    "y_test = np_utils.to_categorical(y_test)\n",
    "print (X_test.shape, y_test.shape)"
   ]
  },
  {
   "cell_type": "code",
   "execution_count": null,
   "metadata": {
    "collapsed": true
   },
   "outputs": [],
   "source": []
  },
  {
   "cell_type": "markdown",
   "metadata": {},
   "source": [
    "<h1> Artificial Neural Network Model using Keras </h1>"
   ]
  },
  {
   "cell_type": "code",
   "execution_count": 6,
   "metadata": {},
   "outputs": [
    {
     "name": "stdout",
     "output_type": "stream",
     "text": [
      "_________________________________________________________________\n",
      "Layer (type)                 Output Shape              Param #   \n",
      "=================================================================\n",
      "dense_1 (Dense)              (None, 512)               401920    \n",
      "_________________________________________________________________\n",
      "activation_1 (Activation)    (None, 512)               0         \n",
      "_________________________________________________________________\n",
      "dense_2 (Dense)              (None, 10)                5130      \n",
      "_________________________________________________________________\n",
      "activation_2 (Activation)    (None, 10)                0         \n",
      "=================================================================\n",
      "Total params: 407,050\n",
      "Trainable params: 407,050\n",
      "Non-trainable params: 0\n",
      "_________________________________________________________________\n"
     ]
    }
   ],
   "source": [
    "model = Sequential()\n",
    "\n",
    "model.add(Dense(512, input_shape=(784,)))\n",
    "model.add(Activation('relu'))\n",
    "\n",
    "model.add(Dense(10))\n",
    "model.add(Activation('softmax'))\n",
    "model.summary()"
   ]
  },
  {
   "cell_type": "code",
   "execution_count": 7,
   "metadata": {},
   "outputs": [],
   "source": [
    "model.compile(loss='categorical_crossentropy', optimizer='adadelta', metrics=['accuracy'])"
   ]
  },
  {
   "cell_type": "code",
   "execution_count": 8,
   "metadata": {},
   "outputs": [
    {
     "name": "stdout",
     "output_type": "stream",
     "text": [
      "[<keras.layers.core.Dense object at 0x7f2461283668>, <keras.layers.core.Activation object at 0x7f24612831d0>, <keras.layers.core.Dense object at 0x7f24612835c0>, <keras.layers.core.Activation object at 0x7f2462cfa908>]\n"
     ]
    }
   ],
   "source": [
    "print (model.layers)"
   ]
  },
  {
   "cell_type": "code",
   "execution_count": null,
   "metadata": {
    "scrolled": false
   },
   "outputs": [
    {
     "name": "stdout",
     "output_type": "stream",
     "text": [
      "Train on 60000 samples, validate on 10000 samples\n",
      "Epoch 1/30\n",
      "60000/60000 [==============================] - 11s - loss: 0.3113 - acc: 0.9150 - val_loss: 0.1705 - val_acc: 0.9519\n",
      "Epoch 2/30\n",
      "60000/60000 [==============================] - 9s - loss: 0.1309 - acc: 0.9639 - val_loss: 0.1276 - val_acc: 0.9647\n",
      "Epoch 3/30\n",
      "60000/60000 [==============================] - 10s - loss: 0.0893 - acc: 0.9757 - val_loss: 0.1089 - val_acc: 0.9699\n",
      "Epoch 4/30\n",
      "60000/60000 [==============================] - 10s - loss: 0.0658 - acc: 0.9823 - val_loss: 0.1008 - val_acc: 0.9717\n",
      "Epoch 5/30\n",
      "60000/60000 [==============================] - 8s - loss: 0.0507 - acc: 0.9873 - val_loss: 0.0923 - val_acc: 0.9739\n",
      "Epoch 6/30\n",
      "60000/60000 [==============================] - 8s - loss: 0.0393 - acc: 0.9907 - val_loss: 0.0891 - val_acc: 0.9754\n",
      "Epoch 7/30\n",
      "60000/60000 [==============================] - 10s - loss: 0.0312 - acc: 0.9932 - val_loss: 0.0870 - val_acc: 0.9764\n",
      "Epoch 8/30\n",
      "60000/60000 [==============================] - 9s - loss: 0.0254 - acc: 0.9950 - val_loss: 0.0860 - val_acc: 0.9756\n",
      "Epoch 9/30\n",
      "60000/60000 [==============================] - 10s - loss: 0.0204 - acc: 0.9967 - val_loss: 0.0866 - val_acc: 0.9768\n",
      "Epoch 10/30\n",
      "60000/60000 [==============================] - 10s - loss: 0.0168 - acc: 0.9974 - val_loss: 0.0836 - val_acc: 0.9772\n",
      "Epoch 11/30\n",
      "60000/60000 [==============================] - 10s - loss: 0.0137 - acc: 0.9983 - val_loss: 0.0843 - val_acc: 0.9781\n",
      "Epoch 12/30\n",
      "60000/60000 [==============================] - 9s - loss: 0.0114 - acc: 0.9987 - val_loss: 0.0850 - val_acc: 0.9777\n",
      "Epoch 13/30\n",
      "60000/60000 [==============================] - 8s - loss: 0.0096 - acc: 0.9990 - val_loss: 0.0857 - val_acc: 0.9783\n",
      "Epoch 14/30\n",
      "60000/60000 [==============================] - 9s - loss: 0.0081 - acc: 0.9993 - val_loss: 0.0877 - val_acc: 0.9781\n",
      "Epoch 15/30\n",
      "60000/60000 [==============================] - 10s - loss: 0.0070 - acc: 0.9995 - val_loss: 0.0869 - val_acc: 0.9785\n",
      "Epoch 16/30\n",
      "60000/60000 [==============================] - 10s - loss: 0.0061 - acc: 0.9996 - val_loss: 0.0884 - val_acc: 0.9785\n",
      "Epoch 17/30\n",
      "60000/60000 [==============================] - 8s - loss: 0.0054 - acc: 0.9997 - val_loss: 0.0911 - val_acc: 0.9779\n",
      "Epoch 18/30\n",
      "60000/60000 [==============================] - 8s - loss: 0.0049 - acc: 0.9997 - val_loss: 0.0911 - val_acc: 0.9780\n",
      "Epoch 19/30\n",
      "45056/60000 [=====================>........] - ETA: 2s - loss: 0.0046 - acc: 0.9998"
     ]
    }
   ],
   "source": [
    "hist = model.fit(X_data, y,\n",
    "         epochs=30,\n",
    "         shuffle=True,\n",
    "         batch_size=128,\n",
    "         validation_data=(X_test,y_test))"
   ]
  },
  {
   "cell_type": "code",
   "execution_count": 15,
   "metadata": {
    "collapsed": true
   },
   "outputs": [],
   "source": [
    "from keras.models import load_model\n",
    "import h5py\n",
    "\n",
    "model.save('tmodels/digit2.h5')  # creates a HDF5 file 'my_model.h5'\n",
    "f = h5py.File('tmodels/digit2.h5', 'r+')\n",
    "del f['optimizer_weights']\n",
    "f.close()"
   ]
  },
  {
   "cell_type": "code",
   "execution_count": 25,
   "metadata": {},
   "outputs": [
    {
     "name": "stdout",
     "output_type": "stream",
     "text": [
      "3\n",
      "1\n",
      "2\n",
      "6\n",
      "5\n",
      "4\n"
     ]
    }
   ],
   "source": [
    "for i in range(1,7):\n",
    "    im = cv2.imread('timages/Digit'+str(i)+'.jpg',0)\n",
    "    im = im.flatten()\n",
    "    im = im[np.newaxis]\n",
    "    print (model.predict_classes(im,verbose=0)[0])"
   ]
  },
  {
   "cell_type": "code",
   "execution_count": 35,
   "metadata": {},
   "outputs": [
    {
     "name": "stdout",
     "output_type": "stream",
     "text": [
      "(60000, 785)\n",
      "(60000, 28, 28, 1) (60000,)\n"
     ]
    }
   ],
   "source": [
    "ds = pd.read_csv('data/mnist_train.csv',header=None)\n",
    "data = ds.values\n",
    "print (data.shape)\n",
    "X_train = data[:, 1:]\n",
    "y_train = data[:, 0]\n",
    "X_train = X_train.reshape(60000,28,28,1)\n",
    "print (X_train.shape, y_train.shape)"
   ]
  },
  {
   "cell_type": "code",
   "execution_count": 36,
   "metadata": {},
   "outputs": [
    {
     "name": "stdout",
     "output_type": "stream",
     "text": [
      "(10000, 785)\n",
      "(10000, 28, 28, 1) (10000,)\n"
     ]
    }
   ],
   "source": [
    "dt = pd.read_csv('data/mnist_test.csv',header=None)\n",
    "dv = dt.values\n",
    "print (dv.shape)\n",
    "X_test = dv[:, 1:]\n",
    "y_test = dv[:, 0]\n",
    "X_test = X_test.reshape(10000,28,28,1)\n",
    "print (X_test.shape, y_test.shape)"
   ]
  },
  {
   "cell_type": "code",
   "execution_count": 37,
   "metadata": {
    "collapsed": true
   },
   "outputs": [],
   "source": [
    "X_train = X_train.astype('float32')\n",
    "X_test = X_test.astype('float32')\n",
    "X_train /= 255\n",
    "X_test /= 255"
   ]
  },
  {
   "cell_type": "code",
   "execution_count": 38,
   "metadata": {
    "collapsed": true
   },
   "outputs": [],
   "source": [
    "y_train = np_utils.to_categorical(y_train)\n",
    "y_test = np_utils.to_categorical(y_test)"
   ]
  },
  {
   "cell_type": "code",
   "execution_count": 6,
   "metadata": {},
   "outputs": [
    {
     "ename": "NameError",
     "evalue": "name 'conv_model' is not defined",
     "output_type": "error",
     "traceback": [
      "\u001b[0;31m---------------------------------------------------------------------------\u001b[0m",
      "\u001b[0;31mNameError\u001b[0m                                 Traceback (most recent call last)",
      "\u001b[0;32m<ipython-input-6-22181136092c>\u001b[0m in \u001b[0;36m<module>\u001b[0;34m()\u001b[0m\n\u001b[1;32m      2\u001b[0m \u001b[0mkernel_size\u001b[0m \u001b[0;34m=\u001b[0m \u001b[0;34m(\u001b[0m\u001b[0;36m3\u001b[0m\u001b[0;34m,\u001b[0m\u001b[0;36m3\u001b[0m\u001b[0;34m)\u001b[0m\u001b[0;34m\u001b[0m\u001b[0m\n\u001b[1;32m      3\u001b[0m \u001b[0mbatch_size\u001b[0m \u001b[0;34m=\u001b[0m \u001b[0;36m128\u001b[0m\u001b[0;34m\u001b[0m\u001b[0m\n\u001b[0;32m----> 4\u001b[0;31m \u001b[0mconv_model\u001b[0m\u001b[0;34m.\u001b[0m\u001b[0madd\u001b[0m\u001b[0;34m(\u001b[0m\u001b[0mActivation\u001b[0m\u001b[0;34m(\u001b[0m\u001b[0;34m'relu'\u001b[0m\u001b[0;34m)\u001b[0m\u001b[0;34m)\u001b[0m\u001b[0;34m\u001b[0m\u001b[0m\n\u001b[0m\u001b[1;32m      5\u001b[0m \u001b[0mnb_epoch\u001b[0m \u001b[0;34m=\u001b[0m \u001b[0;36m15\u001b[0m\u001b[0;34m\u001b[0m\u001b[0m\n",
      "\u001b[0;31mNameError\u001b[0m: name 'conv_model' is not defined"
     ]
    }
   ],
   "source": [
    "filters = 32\n",
    "kernel_size = (3,3)\n",
    "batch_size = 128\n",
    "conv_model.add(Activation('relu'))\n",
    "nb_epoch = 15"
   ]
  },
  {
   "cell_type": "markdown",
   "metadata": {},
   "source": [
    "# Convolutional Model using Keras"
   ]
  },
  {
   "cell_type": "code",
   "execution_count": 40,
   "metadata": {},
   "outputs": [
    {
     "name": "stdout",
     "output_type": "stream",
     "text": [
      "_________________________________________________________________\n",
      "Layer (type)                 Output Shape              Param #   \n",
      "=================================================================\n",
      "conv2d_9 (Conv2D)            (None, 26, 26, 32)        320       \n",
      "_________________________________________________________________\n",
      "activation_11 (Activation)   (None, 26, 26, 32)        0         \n",
      "_________________________________________________________________\n",
      "conv2d_10 (Conv2D)           (None, 24, 24, 32)        9248      \n",
      "_________________________________________________________________\n",
      "activation_12 (Activation)   (None, 24, 24, 32)        0         \n",
      "_________________________________________________________________\n",
      "max_pooling2d_3 (MaxPooling2 (None, 12, 12, 32)        0         \n",
      "_________________________________________________________________\n",
      "dropout_5 (Dropout)          (None, 12, 12, 32)        0         \n",
      "_________________________________________________________________\n",
      "flatten_3 (Flatten)          (None, 4608)              0         \n",
      "_________________________________________________________________\n",
      "dense_7 (Dense)              (None, 128)               589952    \n",
      "_________________________________________________________________\n",
      "activation_13 (Activation)   (None, 128)               0         \n",
      "_________________________________________________________________\n",
      "dropout_6 (Dropout)          (None, 128)               0         \n",
      "_________________________________________________________________\n",
      "dense_8 (Dense)              (None, 10)                1290      \n",
      "_________________________________________________________________\n",
      "activation_14 (Activation)   (None, 10)                0         \n",
      "=================================================================\n",
      "Total params: 600,810\n",
      "Trainable params: 600,810\n",
      "Non-trainable params: 0\n",
      "_________________________________________________________________\n"
     ]
    }
   ],
   "source": [
    "conv_model = Sequential()\n",
    "\n",
    "conv_model.add(Convolution2D(filters, kernel_size, input_shape=(28, 28, 1)))\n",
    "conv_model.add(Activation('relu'))\n",
    "conv_model.add(Convolution2D(filters, kernel_size))\n",
    "conv_model.add(Activation('relu'))\n",
    "conv_model.add(MaxPooling2D(pool_size=(2,2)))\n",
    "conv_model.add(Dropout(0.25))\n",
    "conv_model.add(Flatten())\n",
    "conv_model.add(Dense(128))\n",
    "conv_model.add(Activation('relu'))\n",
    "conv_model.add(Dropout(0.5))\n",
    "conv_model.add(Dense(10))\n",
    "conv_model.add(Activation('softmax'))\n",
    "\n",
    "conv_model.summary()"
   ]
  },
  {
   "cell_type": "code",
   "execution_count": 44,
   "metadata": {
    "collapsed": true
   },
   "outputs": [],
   "source": [
    "conv_model.compile(loss='categorical_crossentropy', optimizer='adadelta', metrics=['accuracy'])"
   ]
  },
  {
   "cell_type": "code",
   "execution_count": 45,
   "metadata": {},
   "outputs": [
    {
     "name": "stderr",
     "output_type": "stream",
     "text": [
      "/usr/local/lib/python3.5/dist-packages/keras/models.py:844: UserWarning: The `nb_epoch` argument in `fit` has been renamed `epochs`.\n",
      "  warnings.warn('The `nb_epoch` argument in `fit` '\n"
     ]
    },
    {
     "name": "stdout",
     "output_type": "stream",
     "text": [
      "Train on 60000 samples, validate on 10000 samples\n",
      "Epoch 1/15\n",
      "60000/60000 [==============================] - 95s - loss: 0.0498 - acc: 0.9850 - val_loss: 0.0312 - val_acc: 0.9893\n",
      "Epoch 2/15\n",
      "60000/60000 [==============================] - 97s - loss: 0.0473 - acc: 0.9860 - val_loss: 0.0317 - val_acc: 0.9893\n",
      "Epoch 3/15\n",
      "60000/60000 [==============================] - 95s - loss: 0.0454 - acc: 0.9868 - val_loss: 0.0323 - val_acc: 0.9898\n",
      "Epoch 4/15\n",
      "60000/60000 [==============================] - 101s - loss: 0.0445 - acc: 0.9871 - val_loss: 0.0324 - val_acc: 0.9894\n",
      "Epoch 5/15\n",
      "60000/60000 [==============================] - 95s - loss: 0.0432 - acc: 0.9874 - val_loss: 0.0308 - val_acc: 0.9893\n",
      "Epoch 6/15\n",
      "60000/60000 [==============================] - 96s - loss: 0.0415 - acc: 0.9877 - val_loss: 0.0307 - val_acc: 0.9893\n",
      "Epoch 7/15\n",
      "60000/60000 [==============================] - 97s - loss: 0.0415 - acc: 0.9870 - val_loss: 0.0298 - val_acc: 0.9900\n",
      "Epoch 8/15\n",
      "60000/60000 [==============================] - 96s - loss: 0.0395 - acc: 0.9885 - val_loss: 0.0304 - val_acc: 0.9905\n",
      "Epoch 9/15\n",
      "60000/60000 [==============================] - 96s - loss: 0.0390 - acc: 0.9888 - val_loss: 0.0316 - val_acc: 0.9898\n",
      "Epoch 10/15\n",
      "60000/60000 [==============================] - 95s - loss: 0.0398 - acc: 0.9876 - val_loss: 0.0292 - val_acc: 0.9911\n",
      "Epoch 11/15\n",
      "60000/60000 [==============================] - 95s - loss: 0.0392 - acc: 0.9886 - val_loss: 0.0302 - val_acc: 0.9903\n",
      "Epoch 12/15\n",
      "60000/60000 [==============================] - 95s - loss: 0.0381 - acc: 0.9887 - val_loss: 0.0312 - val_acc: 0.9908\n",
      "Epoch 13/15\n",
      "60000/60000 [==============================] - 99s - loss: 0.0368 - acc: 0.9887 - val_loss: 0.0285 - val_acc: 0.9913\n",
      "Epoch 14/15\n",
      "60000/60000 [==============================] - 98s - loss: 0.0372 - acc: 0.9888 - val_loss: 0.0274 - val_acc: 0.9915\n",
      "Epoch 15/15\n",
      "60000/60000 [==============================] - 97s - loss: 0.0358 - acc: 0.9893 - val_loss: 0.0296 - val_acc: 0.9916\n"
     ]
    },
    {
     "data": {
      "text/plain": [
       "<keras.callbacks.History at 0x7fdf90e87f60>"
      ]
     },
     "execution_count": 45,
     "metadata": {},
     "output_type": "execute_result"
    }
   ],
   "source": [
    "conv_model.fit(X_train, y_train, batch_size=batch_size, epochs=nb_epoch,\n",
    "          verbose=1, validation_data=(X_test, y_test))"
   ]
  },
  {
   "cell_type": "code",
   "execution_count": 46,
   "metadata": {
    "collapsed": true
   },
   "outputs": [],
   "source": [
    "conv_model.save('tmodels/cDigit1.h5')  # creates a HDF5 file 'my_model.h5'\n",
    "f = h5py.File('tmodels/cDigit1.h5', 'r+')\n",
    "del f['optimizer_weights']\n",
    "f.close()"
   ]
  },
  {
   "cell_type": "code",
   "execution_count": null,
   "metadata": {
    "collapsed": true
   },
   "outputs": [],
   "source": []
  }
 ],
 "metadata": {
  "anaconda-cloud": {},
  "kernelspec": {
   "display_name": "Python 3",
   "language": "python",
   "name": "python3"
  },
  "language_info": {
   "codemirror_mode": {
    "name": "ipython",
    "version": 3
   },
   "file_extension": ".py",
   "mimetype": "text/x-python",
   "name": "python",
   "nbconvert_exporter": "python",
   "pygments_lexer": "ipython3",
   "version": "3.5.2"
  }
 },
 "nbformat": 4,
 "nbformat_minor": 2
}
